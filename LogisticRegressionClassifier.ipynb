{
 "cells": [
  {
   "cell_type": "markdown",
   "metadata": {},
   "source": [
    "# Logistic Regression Classifier\n",
    "The goal of this notebook is to build a logistic regression classifier using a neural network underlying architecture. This model will classify whether an image contains a cat or not."
   ]
  },
  {
   "cell_type": "markdown",
   "metadata": {},
   "source": [
    "<a id=\"cont\"></a>\n",
    "\n",
    "## Notebook Structure:\n",
    "\n",
    "<a href=#one>1. Importing Packages</a>\n",
    "\n",
    "<a href=#two>2. Dataset</a>\n",
    "\n",
    "<a href=#three>3. Building Functions</a>\n",
    "\n",
    "<a href=#four>4. Merging Model</a>"
   ]
  },
  {
   "cell_type": "markdown",
   "metadata": {},
   "source": [
    " <a id=\"one\"></a>\n",
    "### 1. Importing Packages\n"
   ]
  },
  {
   "cell_type": "code",
   "execution_count": 1,
   "metadata": {},
   "outputs": [],
   "source": [
    "import numpy as np\n",
    "import matplotlib.pyplot as plt\n",
    "import h5py\n",
    "import scipy\n",
    "from PIL import Image\n",
    "from scipy import ndimage\n",
    "from lr_utils import load_dataset\n",
    "\n",
    "%matplotlib inline"
   ]
  },
  {
   "cell_type": "markdown",
   "metadata": {},
   "source": [
    " <a id=\"two\"></a>\n",
    "### 2. Dataset\n"
   ]
  },
  {
   "cell_type": "markdown",
   "metadata": {},
   "source": [
    "#### 2.1 - Problem Overview"
   ]
  },
  {
   "cell_type": "markdown",
   "metadata": {},
   "source": [
    "Given a dataset (\"data.h5\") containing:\n",
    "* a training set of m_train images labeled as cat (y=1) or non-cat (y=0)\n",
    "* a test set of m_test images labeled as cat or non-cat\n",
    "* each image is of shape (num_px, num_px, 3) where 3 is for the 3 channels (RGB). Thus, each image is square (height = num_px) and (width = num_px).\n",
    "\n",
    "Build a simple image-recognition algorithm that can correctly classify pictures as cat or non-cat."
   ]
  },
  {
   "cell_type": "markdown",
   "metadata": {},
   "source": [
    "#### 2.2 - Upload Dataset"
   ]
  },
  {
   "cell_type": "code",
   "execution_count": 2,
   "metadata": {},
   "outputs": [],
   "source": [
    "# upload data \n",
    "train_set_x_orig, train_set_y, test_set_x_orig, test_set_y, classes = load_dataset()"
   ]
  },
  {
   "cell_type": "markdown",
   "metadata": {},
   "source": [
    "Change the index value to view other results."
   ]
  },
  {
   "cell_type": "code",
   "execution_count": 3,
   "metadata": {},
   "outputs": [
    {
     "name": "stdout",
     "output_type": "stream",
     "text": [
      "y = [1], a cat picture!\n"
     ]
    },
    {
     "data": {
      "image/png": "[encoded data removed]",
      "text/plain": [
       "<Figure size 432x288 with 1 Axes>"
      ]
     },
     "metadata": {
      "needs_background": "light"
     },
     "output_type": "display_data"
    }
   ],
   "source": [
    "# view an example\n",
    "index = 104\n",
    "plt.imshow(train_set_x_orig[index])\n",
    "print('y = {}, a {} picture!'.format(train_set_y[:, index], classes[np.squeeze(train_set_y[:, index])].decode(\"utf-8\")))"
   ]
  },
  {
   "cell_type": "markdown",
   "metadata": {},
   "source": [
    "#### 2.3 - Preprocessing "
   ]
  },
  {
   "cell_type": "code",
   "execution_count": 4,
   "metadata": {},
   "outputs": [
    {
     "name": "stdout",
     "output_type": "stream",
     "text": [
      "train_set_x_orig = (209, 64, 64, 3)\n",
      "train_set_y = (1, 209)\n",
      "test_set_x_orig = (50, 64, 64, 3)\n",
      "test_set_y = (1, 50)\n",
      "\n",
      "m_train = 209\n",
      "m_test = 50\n",
      "num_px = 64\n"
     ]
    }
   ],
   "source": [
    "# view data shape\n",
    "print('train_set_x_orig = {}'.format(train_set_x_orig.shape))\n",
    "print('train_set_y = {}'.format(train_set_y.shape))\n",
    "print('test_set_x_orig = {}'.format(test_set_x_orig.shape))\n",
    "print('test_set_y = {}\\n'.format(test_set_y.shape))\n",
    "\n",
    "# view examples and pixels\n",
    "print('m_train = {}'.format(train_set_x_orig.shape[0]))\n",
    "print('m_test = {}'.format(test_set_x_orig.shape[0]))\n",
    "print('num_px = {}'.format(train_set_x_orig.shape[1]))"
   ]
  },
  {
   "cell_type": "markdown",
   "metadata": {},
   "source": [
    "Currently both the train_set_x_orig and test_set_x_orig are represented as (m_train, num_px, num_px, 3). To train our model effectively, we want to flatten the feautures into one column. Have a shape similar to (num_px * num_px * 3, m_train). From 4D to 2D."
   ]
  },
  {
   "cell_type": "code",
   "execution_count": 5,
   "metadata": {},
   "outputs": [
    {
     "name": "stdout",
     "output_type": "stream",
     "text": [
      "train_set_x_flatten = (12288, 209)\n",
      "train_set_y = (1, 209)\n",
      "test_set_x_flatten = (12288, 50)\n",
      "test_set_y = (1, 50)\n",
      "\n"
     ]
    }
   ],
   "source": [
    "# flatten training and testing x sets\n",
    "train_set_x_flatten = train_set_x_orig.reshape(train_set_x_orig.shape[0], -1).T\n",
    "test_set_x_flatten = test_set_x_orig.reshape(test_set_x_orig.shape[0], -1).T\n",
    "\n",
    "# view data shape\n",
    "print('train_set_x_flatten = {}'.format(train_set_x_flatten.shape))\n",
    "print('train_set_y = {}'.format(train_set_y.shape))\n",
    "print('test_set_x_flatten = {}'.format(test_set_x_flatten.shape))\n",
    "print('test_set_y = {}\\n'.format(test_set_y.shape))"
   ]
  },
  {
   "cell_type": "code",
   "execution_count": 6,
   "metadata": {},
   "outputs": [],
   "source": [
    "# standardize image data\n",
    "train_set_x = train_set_x_flatten/255\n",
    "test_set_x = test_set_x_flatten/255"
   ]
  },
  {
   "cell_type": "markdown",
   "metadata": {},
   "source": [
    " <a id=\"three\"></a>\n",
    "### 3. Building Functions\n",
    "This 'neural network' will be made up of an input and output layer. The input layer containing the training examples. The output layer processing input data in two sequential steps. Firstly, computing a linear function that contains weights and biases. Followed by a sigmoid activation function to complete the classification. \n"
   ]
  },
  {
   "cell_type": "markdown",
   "metadata": {},
   "source": [
    "#### Steps in Model Training\n",
    "1. Initialize Parameters\n",
    "2. Forward Propagation\n",
    "3. Cost Computation\n",
    "4. Backward Propagation\n",
    "5. Optimization - Gradient Descent\n",
    "6. Model Performance "
   ]
  },
  {
   "cell_type": "markdown",
   "metadata": {},
   "source": [
    "#### 3.1 - Helper Function"
   ]
  },
  {
   "cell_type": "code",
   "execution_count": 7,
   "metadata": {},
   "outputs": [],
   "source": [
    "# sigmoid function\n",
    "def sigmoid(z):\n",
    "    \"\"\"\n",
    "    Arguments:\n",
    "    z -- \n",
    "    \n",
    "    Return:\n",
    "    s --\n",
    "    \"\"\"\n",
    "    s = 1/(1+np.exp(-z))\n",
    "    return s"
   ]
  },
  {
   "cell_type": "markdown",
   "metadata": {},
   "source": [
    "#### 3.2 - Initialize Parameters\n",
    "Initialize weight and bias to zero."
   ]
  },
  {
   "cell_type": "code",
   "execution_count": 8,
   "metadata": {},
   "outputs": [],
   "source": [
    "# initialize parameters function\n",
    "def initialize_parameters(dim):\n",
    "    \"\"\"\n",
    "    Arguments:\n",
    "    dim --\n",
    "\n",
    "    Return: \n",
    "    parameters -- \n",
    "    \"\"\"\n",
    "    w = np.zeros((dim, 1))\n",
    "    b = 0\n",
    "    \n",
    "    return w, b\n"
   ]
  },
  {
   "cell_type": "markdown",
   "metadata": {},
   "source": [
    "#### 3.3 - Propagation\n",
    "The propagation function includes forward propagation, cost computation and backward propagation. "
   ]
  },
  {
   "cell_type": "code",
   "execution_count": 13,
   "metadata": {},
   "outputs": [],
   "source": [
    "# propagate function\n",
    "def propagate(w, b, X, Y):\n",
    "    \"\"\" \n",
    "    Arguments:\n",
    "    w -- \n",
    "    b -- \n",
    "    X --\n",
    "    Y --\n",
    "\n",
    "    Return:\n",
    "    dw --\n",
    "    db -- \n",
    "    cost --\n",
    "    \n",
    "    \"\"\"\n",
    "    m = X.shape[1]\n",
    "\n",
    "    # forward propagation\n",
    "    Z = np.dot(w.T, X) + b\n",
    "    A = sigmoid(Z)\n",
    "\n",
    "    # cost computation\n",
    "    cost = -(1/m)*(np.sum((Y*np.log(A)) + (1-Y)*np.log(1-A)))\n",
    "\n",
    "    # backward propagation\n",
    "    dw = (1/m)*(np.dot(X, (A - Y).T))\n",
    "    db = (1/m)*(np.sum(A-Y))\n",
    "\n",
    "    grads = {'dw': dw, 'db': db}\n",
    "\n",
    "    return grads, cost "
   ]
  },
  {
   "cell_type": "code",
   "execution_count": 16,
   "metadata": {},
   "outputs": [
    {
     "name": "stdout",
     "output_type": "stream",
     "text": [
      "dw = [[0.99845601]\n",
      " [2.39507239]]\n",
      "db = 0.001455578136784208\n",
      "cost = 5.801545319394553\n"
     ]
    }
   ],
   "source": [
    "# test out propagate\n",
    "w, b, X, Y = np.array([[1.],[2.]]), 2., np.array([[1.,2.,-1.],[3.,4.,-3.2]]), np.array([[1,0,1]])\n",
    "grads, cost = propagate(w, b, X, Y)\n",
    "print (\"dw = \" + str(grads[\"dw\"]))\n",
    "print (\"db = \" + str(grads[\"db\"]))\n",
    "print (\"cost = \" + str(cost))"
   ]
  },
  {
   "cell_type": "markdown",
   "metadata": {},
   "source": [
    "**Expected Output**:\n",
    "\n",
    "<table style=\"width:50%\">\n",
    "    <tr>\n",
    "        <td>  ** dw **  </td>\n",
    "      <td> [[ 0.99845601]\n",
    "     [ 2.39507239]]</td>\n",
    "    </tr>\n",
    "    <tr>\n",
    "        <td>  ** db **  </td>\n",
    "        <td> 0.00145557813678 </td>\n",
    "    </tr>\n",
    "    <tr>\n",
    "        <td>  ** cost **  </td>\n",
    "        <td> 5.801545319394553 </td>\n",
    "    </tr>\n",
    "\n",
    "</table>"
   ]
  },
  {
   "cell_type": "markdown",
   "metadata": {},
   "source": [
    "#### 3.4 - Optimization\n",
    "Update parameters through gradient descent."
   ]
  },
  {
   "cell_type": "code",
   "execution_count": 29,
   "metadata": {},
   "outputs": [],
   "source": [
    "def optimize(w, b, X, Y, num_interations, learning_rate, print_cost=False):\n",
    "    \"\"\"\n",
    "    Arguments:\n",
    "\n",
    "    Return:\n",
    "\n",
    "    \"\"\"\n",
    "    \n",
    "    costs = []\n",
    "    for i in range(num_interations):\n",
    "        \n",
    "        # propagate\n",
    "        grads, cost = propagate(w, b, X, Y)\n",
    "\n",
    "        # compute gradients\n",
    "        dw = grads['dw']\n",
    "        db = grads['db']\n",
    "\n",
    "        # update gradients\n",
    "        w = w - (learning_rate*dw)\n",
    "        b = b - (learning_rate*db)\n",
    "\n",
    "        # add cost to costs after every 100 iterations\n",
    "        if i % 100 == 0:\n",
    "            costs.append(round((cost*100), 2))\n",
    "\n",
    "        if print_cost and i % 100 == 0:\n",
    "            print('Cost after {} iterations: {}%'.format(i, round((cost*100), 2)))\n",
    "\n",
    "    param = {'w': w, 'b': b}\n",
    "    grads = {'dw': dw, 'db': db}\n",
    "\n",
    "    return param, grads, costs"
   ]
  },
  {
   "cell_type": "code",
   "execution_count": 35,
   "metadata": {},
   "outputs": [
    {
     "name": "stdout",
     "output_type": "stream",
     "text": [
      "Cost after 0 iterations: 580.15%\n",
      "Cost after 100 iterations: 105.59%\n",
      "Cost after 200 iterations: 37.83%\n",
      "Cost after 300 iterations: 36.36%\n",
      "Cost after 400 iterations: 35.62%\n",
      "Cost after 500 iterations: 34.92%\n",
      "Cost after 600 iterations: 34.24%\n",
      "Cost after 700 iterations: 33.59%\n",
      "Cost after 800 iterations: 32.95%\n",
      "Cost after 900 iterations: 32.34%\n",
      "Cost after 1000 iterations: 31.74%\n",
      "Cost after 1100 iterations: 31.17%\n",
      "Cost after 1200 iterations: 30.61%\n",
      "Cost after 1300 iterations: 30.07%\n",
      "Cost after 1400 iterations: 29.55%\n"
     ]
    }
   ],
   "source": [
    "# test out optimize\n",
    "param, grads, costs = optimize(w, b, X, Y, num_interations=1500, learning_rate=0.009, print_cost=True)"
   ]
  },
  {
   "cell_type": "markdown",
   "metadata": {},
   "source": [
    "#### 3.5 - Prediction\n",
    "Classification prediction."
   ]
  },
  {
   "cell_type": "markdown",
   "metadata": {},
   "source": [
    " <a id=\"four\"></a>\n",
    "### 4. Model Creation\n",
    "Merge all functions into a model.\n",
    "\n"
   ]
  },
  {
   "cell_type": "markdown",
   "metadata": {},
   "source": []
  },
  {
   "cell_type": "markdown",
   "metadata": {},
   "source": []
  }
 ],
 "metadata": {
  "kernelspec": {
   "display_name": "Python 3.9.12 ('base')",
   "language": "python",
   "name": "python3"
  },
  "language_info": {
   "codemirror_mode": {
    "name": "ipython",
    "version": 3
   },
   "file_extension": ".py",
   "mimetype": "text/x-python",
   "name": "python",
   "nbconvert_exporter": "python",
   "pygments_lexer": "ipython3",
   "version": "3.9.12"
  },
  "orig_nbformat": 4,
  "vscode": {
   "interpreter": {
    "hash": "3d875813b90be5209eec736f2d6b86734e98650e1f719afa6a8aa5c335fccfe0"
   }
  }
 },
 "nbformat": 4,
 "nbformat_minor": 2
}
